{
 "cells": [
  {
   "cell_type": "code",
   "execution_count": 1,
   "id": "f33ffab4",
   "metadata": {},
   "outputs": [],
   "source": [
    "from bs4 import BeautifulSoup as bs"
   ]
  },
  {
   "cell_type": "code",
   "execution_count": 2,
   "id": "6bd52838",
   "metadata": {},
   "outputs": [],
   "source": [
    "import requests"
   ]
  },
  {
   "cell_type": "code",
   "execution_count": 3,
   "id": "c5ffee75",
   "metadata": {},
   "outputs": [],
   "source": [
    "url=\"https://www.flipkart.com/boat-storm-1-3-curveddisplay-smartwatch/p/itm215a48c547168?pid=SMWG3EC4TYBGPW8F&lid=LSTSMWG3EC4TYBGPW8FOMLNC7&marketplace=FLIPKART&q=boat+digital+watch+for+women&store=ajy%2Fbuh&srno=s_1_16&otracker=AS_QueryStore_OrganicAutoSuggest_2_18_na_na_ps&otracker1=AS_QueryStore_OrganicAutoSuggest_2_18_na_na_ps&fm=search-autosuggest&iid=3e47dbef-871a-4f16-8c68-0039e927dfd9.SMWG3EC4TYBGPW8F.SEARCH&ppt=sp&ppn=sp&ssid=1onhceaa280000001669650849936&qH=65e3d90832fd2798\""
   ]
  },
  {
   "cell_type": "code",
   "execution_count": 5,
   "id": "1a2e3d3f",
   "metadata": {},
   "outputs": [
    {
     "data": {
      "text/plain": [
       "<Response [200]>"
      ]
     },
     "execution_count": 5,
     "metadata": {},
     "output_type": "execute_result"
    }
   ],
   "source": [
    "r=requests.get(url)\n",
    "r"
   ]
  },
  {
   "cell_type": "markdown",
   "id": "c528f4eb",
   "metadata": {},
   "source": [
    "# Title of product"
   ]
  },
  {
   "cell_type": "code",
   "execution_count": 13,
   "id": "699f0702",
   "metadata": {},
   "outputs": [
    {
     "name": "stdout",
     "output_type": "stream",
     "text": [
      "boAt Storm 1.3\" CurvedDisplay Smartwatch Price in India - Buy boAt Storm 1.3\" CurvedDisplay Smartwatch online at Flipkart.com\n"
     ]
    }
   ],
   "source": [
    "title=soup.title\n",
    "print(title.string)"
   ]
  },
  {
   "cell_type": "markdown",
   "id": "526c8330",
   "metadata": {},
   "source": [
    "# Price of the product"
   ]
  },
  {
   "cell_type": "code",
   "execution_count": 14,
   "id": "89519524",
   "metadata": {},
   "outputs": [
    {
     "data": {
      "text/plain": [
       "[<div class=\"_30jeq3 _16Jk6d\">₹2,499</div>]"
      ]
     },
     "execution_count": 14,
     "metadata": {},
     "output_type": "execute_result"
    }
   ],
   "source": [
    "price=soup.find_all(\"div\",class_=\"_30jeq3 _16Jk6d\")\n",
    "price"
   ]
  },
  {
   "cell_type": "code",
   "execution_count": 17,
   "id": "89f06938",
   "metadata": {},
   "outputs": [
    {
     "data": {
      "text/plain": [
       "['₹2,499']"
      ]
     },
     "execution_count": 17,
     "metadata": {},
     "output_type": "execute_result"
    }
   ],
   "source": [
    "product_price=[]\n",
    "for i in range(0,len(price)):\n",
    "    product_price.append(price[i].get_text())\n",
    "product_price"
   ]
  },
  {
   "cell_type": "markdown",
   "id": "8f1c35be",
   "metadata": {},
   "source": [
    "# Get all the customer name"
   ]
  },
  {
   "cell_type": "code",
   "execution_count": null,
   "id": "0ecab2f9",
   "metadata": {},
   "outputs": [],
   "source": [
    "names=soup.find_all(\"p\",class_=\"_2sc7ZR _2V5EHH\")\n",
    "names\n"
   ]
  },
  {
   "cell_type": "code",
   "execution_count": 19,
   "id": "24699352",
   "metadata": {},
   "outputs": [
    {
     "data": {
      "text/plain": [
       "['Flipkart Customer',\n",
       " 'Flipkart Customer',\n",
       " 'Prativa Satpathy',\n",
       " 'Srikanth sriki',\n",
       " 'Flipkart Customer',\n",
       " 'Flipkart Customer',\n",
       " 'Piyush Kaliya',\n",
       " 'Mitesh Shah',\n",
       " 'Bhagyashree Patil',\n",
       " 'Rahul Raut']"
      ]
     },
     "execution_count": 19,
     "metadata": {},
     "output_type": "execute_result"
    }
   ],
   "source": [
    "cust_name=[]\n",
    "for i in range(0,len(names)):\n",
    "    cust_name.append(names[i].get_text())\n",
    "cust_name"
   ]
  },
  {
   "cell_type": "markdown",
   "id": "5b79e481",
   "metadata": {},
   "source": [
    "# All comment heading"
   ]
  },
  {
   "cell_type": "code",
   "execution_count": 20,
   "id": "2cfe14a0",
   "metadata": {},
   "outputs": [
    {
     "data": {
      "text/plain": [
       "[<p class=\"_2-N8zT\">Good choice</p>,\n",
       " <p class=\"_2-N8zT\">Great product</p>,\n",
       " <p class=\"_2-N8zT\">Worth every penny</p>,\n",
       " <p class=\"_2-N8zT\">Delightful</p>,\n",
       " <p class=\"_2-N8zT\">Excellent</p>,\n",
       " <p class=\"_2-N8zT\">Mind-blowing purchase</p>,\n",
       " <p class=\"_2-N8zT\">Fabulous!</p>,\n",
       " <p class=\"_2-N8zT\">Perfect product!</p>,\n",
       " <p class=\"_2-N8zT\">Highly recommended</p>,\n",
       " <p class=\"_2-N8zT\">Does the job</p>]"
      ]
     },
     "execution_count": 20,
     "metadata": {},
     "output_type": "execute_result"
    }
   ],
   "source": [
    "main=soup.find_all(\"p\",class_=\"_2-N8zT\")\n",
    "main"
   ]
  },
  {
   "cell_type": "code",
   "execution_count": 21,
   "id": "2b499a6a",
   "metadata": {},
   "outputs": [
    {
     "data": {
      "text/plain": [
       "['Good choice',\n",
       " 'Great product',\n",
       " 'Worth every penny',\n",
       " 'Delightful',\n",
       " 'Excellent',\n",
       " 'Mind-blowing purchase',\n",
       " 'Fabulous!',\n",
       " 'Perfect product!',\n",
       " 'Highly recommended',\n",
       " 'Does the job']"
      ]
     },
     "execution_count": 21,
     "metadata": {},
     "output_type": "execute_result"
    }
   ],
   "source": [
    "main_comment=[]\n",
    "for i in range(0,len(main)):\n",
    "    main_comment.append(main[i].get_text())\n",
    "main_comment"
   ]
  },
  {
   "cell_type": "markdown",
   "id": "8c8d82c8",
   "metadata": {},
   "source": [
    "# Ratings"
   ]
  },
  {
   "cell_type": "code",
   "execution_count": 22,
   "id": "d9535102",
   "metadata": {},
   "outputs": [
    {
     "data": {
      "text/plain": [
       "[<div class=\"_3LWZlK _1BLPMq\">4<img class=\"_1wB99o\" src=\"data:image/svg+xml;base64,PHN2ZyB4bWxucz0iaHR0cDovL3d3dy53My5vcmcvMjAwMC9zdmciIHdpZHRoPSIxMyIgaGVpZ2h0PSIxMiI+PHBhdGggZmlsbD0iI0ZGRiIgZD0iTTYuNSA5LjQzOWwtMy42NzQgMi4yMy45NC00LjI2LTMuMjEtMi44ODMgNC4yNTQtLjQwNEw2LjUuMTEybDEuNjkgNC4wMSA0LjI1NC40MDQtMy4yMSAyLjg4Mi45NCA0LjI2eiIvPjwvc3ZnPg==\"/></div>,\n",
       " <div class=\"_3LWZlK _1BLPMq\">5<img class=\"_1wB99o\" src=\"data:image/svg+xml;base64,PHN2ZyB4bWxucz0iaHR0cDovL3d3dy53My5vcmcvMjAwMC9zdmciIHdpZHRoPSIxMyIgaGVpZ2h0PSIxMiI+PHBhdGggZmlsbD0iI0ZGRiIgZD0iTTYuNSA5LjQzOWwtMy42NzQgMi4yMy45NC00LjI2LTMuMjEtMi44ODMgNC4yNTQtLjQwNEw2LjUuMTEybDEuNjkgNC4wMSA0LjI1NC40MDQtMy4yMSAyLjg4Mi45NCA0LjI2eiIvPjwvc3ZnPg==\"/></div>,\n",
       " <div class=\"_3LWZlK _1BLPMq\">5<img class=\"_1wB99o\" src=\"data:image/svg+xml;base64,PHN2ZyB4bWxucz0iaHR0cDovL3d3dy53My5vcmcvMjAwMC9zdmciIHdpZHRoPSIxMyIgaGVpZ2h0PSIxMiI+PHBhdGggZmlsbD0iI0ZGRiIgZD0iTTYuNSA5LjQzOWwtMy42NzQgMi4yMy45NC00LjI2LTMuMjEtMi44ODMgNC4yNTQtLjQwNEw2LjUuMTEybDEuNjkgNC4wMSA0LjI1NC40MDQtMy4yMSAyLjg4Mi45NCA0LjI2eiIvPjwvc3ZnPg==\"/></div>,\n",
       " <div class=\"_3LWZlK _1BLPMq\">4<img class=\"_1wB99o\" src=\"data:image/svg+xml;base64,PHN2ZyB4bWxucz0iaHR0cDovL3d3dy53My5vcmcvMjAwMC9zdmciIHdpZHRoPSIxMyIgaGVpZ2h0PSIxMiI+PHBhdGggZmlsbD0iI0ZGRiIgZD0iTTYuNSA5LjQzOWwtMy42NzQgMi4yMy45NC00LjI2LTMuMjEtMi44ODMgNC4yNTQtLjQwNEw2LjUuMTEybDEuNjkgNC4wMSA0LjI1NC40MDQtMy4yMSAyLjg4Mi45NCA0LjI2eiIvPjwvc3ZnPg==\"/></div>,\n",
       " <div class=\"_3LWZlK _1BLPMq\">5<img class=\"_1wB99o\" src=\"data:image/svg+xml;base64,PHN2ZyB4bWxucz0iaHR0cDovL3d3dy53My5vcmcvMjAwMC9zdmciIHdpZHRoPSIxMyIgaGVpZ2h0PSIxMiI+PHBhdGggZmlsbD0iI0ZGRiIgZD0iTTYuNSA5LjQzOWwtMy42NzQgMi4yMy45NC00LjI2LTMuMjEtMi44ODMgNC4yNTQtLjQwNEw2LjUuMTEybDEuNjkgNC4wMSA0LjI1NC40MDQtMy4yMSAyLjg4Mi45NCA0LjI2eiIvPjwvc3ZnPg==\"/></div>,\n",
       " <div class=\"_3LWZlK _1BLPMq\">5<img class=\"_1wB99o\" src=\"data:image/svg+xml;base64,PHN2ZyB4bWxucz0iaHR0cDovL3d3dy53My5vcmcvMjAwMC9zdmciIHdpZHRoPSIxMyIgaGVpZ2h0PSIxMiI+PHBhdGggZmlsbD0iI0ZGRiIgZD0iTTYuNSA5LjQzOWwtMy42NzQgMi4yMy45NC00LjI2LTMuMjEtMi44ODMgNC4yNTQtLjQwNEw2LjUuMTEybDEuNjkgNC4wMSA0LjI1NC40MDQtMy4yMSAyLjg4Mi45NCA0LjI2eiIvPjwvc3ZnPg==\"/></div>,\n",
       " <div class=\"_3LWZlK _1BLPMq\">5<img class=\"_1wB99o\" src=\"data:image/svg+xml;base64,PHN2ZyB4bWxucz0iaHR0cDovL3d3dy53My5vcmcvMjAwMC9zdmciIHdpZHRoPSIxMyIgaGVpZ2h0PSIxMiI+PHBhdGggZmlsbD0iI0ZGRiIgZD0iTTYuNSA5LjQzOWwtMy42NzQgMi4yMy45NC00LjI2LTMuMjEtMi44ODMgNC4yNTQtLjQwNEw2LjUuMTEybDEuNjkgNC4wMSA0LjI1NC40MDQtMy4yMSAyLjg4Mi45NCA0LjI2eiIvPjwvc3ZnPg==\"/></div>,\n",
       " <div class=\"_3LWZlK _1BLPMq\">5<img class=\"_1wB99o\" src=\"data:image/svg+xml;base64,PHN2ZyB4bWxucz0iaHR0cDovL3d3dy53My5vcmcvMjAwMC9zdmciIHdpZHRoPSIxMyIgaGVpZ2h0PSIxMiI+PHBhdGggZmlsbD0iI0ZGRiIgZD0iTTYuNSA5LjQzOWwtMy42NzQgMi4yMy45NC00LjI2LTMuMjEtMi44ODMgNC4yNTQtLjQwNEw2LjUuMTEybDEuNjkgNC4wMSA0LjI1NC40MDQtMy4yMSAyLjg4Mi45NCA0LjI2eiIvPjwvc3ZnPg==\"/></div>,\n",
       " <div class=\"_3LWZlK _1BLPMq\">5<img class=\"_1wB99o\" src=\"data:image/svg+xml;base64,PHN2ZyB4bWxucz0iaHR0cDovL3d3dy53My5vcmcvMjAwMC9zdmciIHdpZHRoPSIxMyIgaGVpZ2h0PSIxMiI+PHBhdGggZmlsbD0iI0ZGRiIgZD0iTTYuNSA5LjQzOWwtMy42NzQgMi4yMy45NC00LjI2LTMuMjEtMi44ODMgNC4yNTQtLjQwNEw2LjUuMTEybDEuNjkgNC4wMSA0LjI1NC40MDQtMy4yMSAyLjg4Mi45NCA0LjI2eiIvPjwvc3ZnPg==\"/></div>,\n",
       " <div class=\"_3LWZlK _1BLPMq\">3<img class=\"_1wB99o\" src=\"data:image/svg+xml;base64,PHN2ZyB4bWxucz0iaHR0cDovL3d3dy53My5vcmcvMjAwMC9zdmciIHdpZHRoPSIxMyIgaGVpZ2h0PSIxMiI+PHBhdGggZmlsbD0iI0ZGRiIgZD0iTTYuNSA5LjQzOWwtMy42NzQgMi4yMy45NC00LjI2LTMuMjEtMi44ODMgNC4yNTQtLjQwNEw2LjUuMTEybDEuNjkgNC4wMSA0LjI1NC40MDQtMy4yMSAyLjg4Mi45NCA0LjI2eiIvPjwvc3ZnPg==\"/></div>]"
      ]
     },
     "execution_count": 22,
     "metadata": {},
     "output_type": "execute_result"
    }
   ],
   "source": [
    "star=soup.find_all(\"div\",class_=\"_3LWZlK _1BLPMq\")\n",
    "star"
   ]
  },
  {
   "cell_type": "code",
   "execution_count": 24,
   "id": "a1c35728",
   "metadata": {},
   "outputs": [
    {
     "data": {
      "text/plain": [
       "['4', '5', '5', '4', '5', '5', '5', '5', '5', '3']"
      ]
     },
     "execution_count": 24,
     "metadata": {},
     "output_type": "execute_result"
    }
   ],
   "source": [
    "rating_star=[]\n",
    "for i in range(0,len(star)):\n",
    "    rating_star.append(star[i].get_text())\n",
    "rating_star"
   ]
  },
  {
   "cell_type": "markdown",
   "id": "b686eb3b",
   "metadata": {},
   "source": [
    "# Get all customer reviews "
   ]
  },
  {
   "cell_type": "code",
   "execution_count": 26,
   "id": "ea30ae6c",
   "metadata": {},
   "outputs": [
    {
     "data": {
      "text/plain": [
       "[<div class=\"t-ZTKy\"><div><div class=\"\">Writing this review after 2 weeks. <br>PROS:-less weight<br/>High brightness<br/>User friendly <br/>Good speed<br/>Notification is stylish and very useful<br/>Good in look when screen off😬<br/>Battery life is good<br/>Water resistance works well<br/>Screen quality is very good.. even i thought its gorilla glass<br/>You can add any photo as wallpaper<br/>CONS:<br/>Screen size is disappointing<br/>App is very bad..new update is not working well..please make better app developers. When changing to external wallpaper, time and date become little...</br></div><span class=\"_1BWGvX\"><span>READ MORE</span></span></div></div>,\n",
       " <div class=\"t-ZTKy\"><div><div class=\"\">Got the watch from Flipkart and I must say it's super worthy of the money. I track my exercise routine in it and it works wonders. Really a great smartwatch</div><span class=\"_1H-bmy\"><span>READ MORE</span></span></div></div>,\n",
       " <div class=\"t-ZTKy\"><div><div class=\"\">Wooww🖤Grt watch<br/> awesome 💌💌<br/>🖤I loved it super fabulous🖤<br/>Best of the brand like boat 💯</div><span class=\"_1H-bmy\"><span>READ MORE</span></span></div></div>,\n",
       " <div class=\"t-ZTKy\"><div><div class=\"\">Boat smart watch nice  and decent product in this price range. The functionality is amazing and display quality is also good, the battery life is not so good compare to other smart watches this is the main drawback, the battery life comes for 5-6 days for 1 full charge. Belt quality good and smooth. ❤️ Rate sensor gives nearly accurate BPM and other good thing is oxygen sensor is good but I don't know how much accurate this, BP monitoring also there quite a good feature, music control is good...</div><span class=\"_1BWGvX\"><span>READ MORE</span></span></div></div>,\n",
       " <div class=\"t-ZTKy\"><div><div class=\"\">Beautiful smart watch loved its look just awesome at this price....</div><span class=\"_1H-bmy\"><span>READ MORE</span></span></div></div>,\n",
       " <div class=\"t-ZTKy\"><div><div class=\"\">Watch is amazing. Looks so good &amp; battery is good last for 4 to 5 days. Great deal..Thank you Flipkart💖😊👏</div><span class=\"_1H-bmy\"><span>READ MORE</span></span></div></div>,\n",
       " <div class=\"t-ZTKy\"><div><div class=\"\">Writing this review after 11 days.<br/><br/>1. Price :- This watch is best in this price segment as compared to other brands/SW.<br/>This watch comes with a lot of pros.<br/>2. Battery :- Battery is beast. (Charged it to 99% and it's 42% available now after using it 11 days continuously.)<br/>3. Display :- Display is best according to the price.<br/>4. Accuracy :- Accuracy is very good.(step counter, heart rate, SpO2)<br/>5. Connectivity :- Connectivity is seamless.(No issues in connection and synchronisation)<br/>6. Looks ...</div><span class=\"_1BWGvX\"><span>READ MORE</span></span></div></div>,\n",
       " <div class=\"t-ZTKy\"><div><div class=\"\">Good watch...👍<br/>Use after 10 day .and one time charge. Battery backup so nice upto 9-10 day...my boat watch received 10 days..after<br/>Use boat strom watch quality GOOD nice and metal body casing so good wach belt quality.cloued based watch 38 face.and later OTA UPDATE. version 7 update but boat storm v7 personalize face watch not avaliable in pro gear app <br/>Please. So next update add features in pro gear and all of good nice watch in price range</div><span class=\"_1H-bmy\"><span>READ MORE</span></span></div></div>,\n",
       " <div class=\"t-ZTKy\"><div><div class=\"\">This watch looks really cool. I loved it. Thanks for fast delivery. Excellent choice for those who are looking for a fitness band.</div><span class=\"_1H-bmy\"><span>READ MORE</span></span></div></div>,\n",
       " <div class=\"t-ZTKy\"><div><div class=\"\">Been using this Watch since it's launch. 30th Oct 2020. The product seems good initially, but fails to impress after long time use.<br/><br/>Pros:<br/>1. The watch is lightweight &amp; has slightly premium look. <br/>2. The battery life is good, It lasts more than a week if you don't record any activity &amp; a week if any activities are recorded. (Auto heart rate monitor on &amp; with wake up gesture on)<br/>3. The apps gives good amount of the info about the daily exercise, sleep, and heart rate.<br/>4. The OS is simple.<br/><br/>Con...</div><span class=\"_1BWGvX\"><span>READ MORE</span></span></div></div>]"
      ]
     },
     "execution_count": 26,
     "metadata": {},
     "output_type": "execute_result"
    }
   ],
   "source": [
    "review=soup.find_all(\"div\",class_=\"t-ZTKy\")\n",
    "review"
   ]
  },
  {
   "cell_type": "code",
   "execution_count": 27,
   "id": "40da4dcc",
   "metadata": {},
   "outputs": [
    {
     "data": {
      "text/plain": [
       "['Writing this review after 2 weeks. PROS:-less weightHigh brightnessUser friendly Good speedNotification is stylish and very usefulGood in look when screen off😬Battery life is goodWater resistance works wellScreen quality is very good.. even i thought its gorilla glassYou can add any photo as wallpaperCONS:Screen size is disappointingApp is very bad..new update is not working well..please make better app developers. When changing to external wallpaper, time and date become little...READ MORE',\n",
       " \"Got the watch from Flipkart and I must say it's super worthy of the money. I track my exercise routine in it and it works wonders. Really a great smartwatchREAD MORE\",\n",
       " 'Wooww🖤Grt watch awesome 💌💌🖤I loved it super fabulous🖤Best of the brand like boat 💯READ MORE',\n",
       " \"Boat smart watch nice  and decent product in this price range. The functionality is amazing and display quality is also good, the battery life is not so good compare to other smart watches this is the main drawback, the battery life comes for 5-6 days for 1 full charge. Belt quality good and smooth. ❤️ Rate sensor gives nearly accurate BPM and other good thing is oxygen sensor is good but I don't know how much accurate this, BP monitoring also there quite a good feature, music control is good...READ MORE\",\n",
       " 'Beautiful smart watch loved its look just awesome at this price....READ MORE',\n",
       " 'Watch is amazing. Looks so good & battery is good last for 4 to 5 days. Great deal..Thank you Flipkart💖😊👏READ MORE',\n",
       " \"Writing this review after 11 days.1. Price :- This watch is best in this price segment as compared to other brands/SW.This watch comes with a lot of pros.2. Battery :- Battery is beast. (Charged it to 99% and it's 42% available now after using it 11 days continuously.)3. Display :- Display is best according to the price.4. Accuracy :- Accuracy is very good.(step counter, heart rate, SpO2)5. Connectivity :- Connectivity is seamless.(No issues in connection and synchronisation)6. Looks ...READ MORE\",\n",
       " 'Good watch...👍Use after 10 day .and one time charge. Battery backup so nice upto 9-10 day...my boat watch received 10 days..afterUse boat strom watch quality GOOD nice and metal body casing so good wach belt quality.cloued based watch 38 face.and later OTA UPDATE. version 7 update but boat storm v7 personalize face watch not avaliable in pro gear app Please. So next update add features in pro gear and all of good nice watch in price rangeREAD MORE',\n",
       " 'This watch looks really cool. I loved it. Thanks for fast delivery. Excellent choice for those who are looking for a fitness band.READ MORE',\n",
       " \"Been using this Watch since it's launch. 30th Oct 2020. The product seems good initially, but fails to impress after long time use.Pros:1. The watch is lightweight & has slightly premium look. 2. The battery life is good, It lasts more than a week if you don't record any activity & a week if any activities are recorded. (Auto heart rate monitor on & with wake up gesture on)3. The apps gives good amount of the info about the daily exercise, sleep, and heart rate.4. The OS is simple.Con...READ MORE\"]"
      ]
     },
     "execution_count": 27,
     "metadata": {},
     "output_type": "execute_result"
    }
   ],
   "source": [
    "cust_review=[]\n",
    "for i in range(0,len(review)):\n",
    "    cust_review.append(review[i].get_text())\n",
    "cust_review"
   ]
  },
  {
   "cell_type": "markdown",
   "id": "9508f921",
   "metadata": {},
   "source": [
    "# Total ratings according to star"
   ]
  },
  {
   "cell_type": "code",
   "execution_count": 28,
   "id": "3719c399",
   "metadata": {},
   "outputs": [
    {
     "data": {
      "text/plain": [
       "[<div class=\"_1uJVNT\">3,28,591</div>,\n",
       " <div class=\"_1uJVNT\">1,49,732</div>,\n",
       " <div class=\"_1uJVNT\">58,275</div>,\n",
       " <div class=\"_1uJVNT\">21,848</div>,\n",
       " <div class=\"_1uJVNT\">51,143</div>]"
      ]
     },
     "execution_count": 28,
     "metadata": {},
     "output_type": "execute_result"
    }
   ],
   "source": [
    "tr=soup.find_all(\"div\",class_=\"_1uJVNT\")\n",
    "tr"
   ]
  },
  {
   "cell_type": "code",
   "execution_count": 29,
   "id": "c6e2b3eb",
   "metadata": {},
   "outputs": [
    {
     "data": {
      "text/plain": [
       "['3,28,591', '1,49,732', '58,275', '21,848', '51,143']"
      ]
     },
     "execution_count": 29,
     "metadata": {},
     "output_type": "execute_result"
    }
   ],
   "source": [
    "cust_tr=[]\n",
    "for i in range(0,len(tr)):\n",
    "    cust_tr.append(tr[i].get_text())\n",
    "cust_tr"
   ]
  },
  {
   "cell_type": "markdown",
   "id": "c1b7e16b",
   "metadata": {},
   "source": [
    "# Comments likes and dislikes"
   ]
  },
  {
   "cell_type": "code",
   "execution_count": 32,
   "id": "d2efc2d1",
   "metadata": {},
   "outputs": [
    {
     "data": {
      "text/plain": [
       "[<span class=\"_3c3Px5\">7843</span>,\n",
       " <span class=\"_3c3Px5\">1650</span>,\n",
       " <span class=\"_3c3Px5\">1815</span>,\n",
       " <span class=\"_3c3Px5\">368</span>,\n",
       " <span class=\"_3c3Px5\">9206</span>,\n",
       " <span class=\"_3c3Px5\">2374</span>,\n",
       " <span class=\"_3c3Px5\">5013</span>,\n",
       " <span class=\"_3c3Px5\">1329</span>,\n",
       " <span class=\"_3c3Px5\">2142</span>,\n",
       " <span class=\"_3c3Px5\">576</span>,\n",
       " <span class=\"_3c3Px5\">7381</span>,\n",
       " <span class=\"_3c3Px5\">2160</span>,\n",
       " <span class=\"_3c3Px5\">884</span>,\n",
       " <span class=\"_3c3Px5\">236</span>,\n",
       " <span class=\"_3c3Px5\">3484</span>,\n",
       " <span class=\"_3c3Px5\">1003</span>,\n",
       " <span class=\"_3c3Px5\">307</span>,\n",
       " <span class=\"_3c3Px5\">74</span>,\n",
       " <span class=\"_3c3Px5\">237</span>,\n",
       " <span class=\"_3c3Px5\">55</span>,\n",
       " <span class=\"_3c3Px5\">378</span>,\n",
       " <span class=\"_3c3Px5\">138</span>,\n",
       " <span class=\"_3c3Px5\">461</span>,\n",
       " <span class=\"_3c3Px5\">126</span>,\n",
       " <span class=\"_3c3Px5\">818</span>,\n",
       " <span class=\"_3c3Px5\">305</span>,\n",
       " <span class=\"_3c3Px5\">558</span>,\n",
       " <span class=\"_3c3Px5\">176</span>,\n",
       " <span class=\"_3c3Px5\">580</span>,\n",
       " <span class=\"_3c3Px5\">184</span>,\n",
       " <span class=\"_3c3Px5\">305</span>,\n",
       " <span class=\"_3c3Px5\">93</span>,\n",
       " <span class=\"_3c3Px5\">31</span>,\n",
       " <span class=\"_3c3Px5\">32</span>,\n",
       " <span class=\"_3c3Px5\">121</span>,\n",
       " <span class=\"_3c3Px5\">32</span>,\n",
       " <span class=\"_3c3Px5\">954</span>,\n",
       " <span class=\"_3c3Px5\">329</span>,\n",
       " <span class=\"_3c3Px5\">20</span>,\n",
       " <span class=\"_3c3Px5\">11</span>]"
      ]
     },
     "execution_count": 32,
     "metadata": {},
     "output_type": "execute_result"
    }
   ],
   "source": [
    "ld=soup.find_all(\"span\",class_=\"_3c3Px5\")\n",
    "ld"
   ]
  },
  {
   "cell_type": "code",
   "execution_count": 33,
   "id": "10268ca8",
   "metadata": {},
   "outputs": [
    {
     "data": {
      "text/plain": [
       "['7843',\n",
       " '1650',\n",
       " '1815',\n",
       " '368',\n",
       " '9206',\n",
       " '2374',\n",
       " '5013',\n",
       " '1329',\n",
       " '2142',\n",
       " '576',\n",
       " '7381',\n",
       " '2160',\n",
       " '884',\n",
       " '236',\n",
       " '3484',\n",
       " '1003',\n",
       " '307',\n",
       " '74',\n",
       " '237',\n",
       " '55',\n",
       " '378',\n",
       " '138',\n",
       " '461',\n",
       " '126',\n",
       " '818',\n",
       " '305',\n",
       " '558',\n",
       " '176',\n",
       " '580',\n",
       " '184',\n",
       " '305',\n",
       " '93',\n",
       " '31',\n",
       " '32',\n",
       " '121',\n",
       " '32',\n",
       " '954',\n",
       " '329',\n",
       " '20',\n",
       " '11']"
      ]
     },
     "execution_count": 33,
     "metadata": {},
     "output_type": "execute_result"
    }
   ],
   "source": [
    "cust_ld=[]\n",
    "for i in range(0,len(ld)):\n",
    "    cust_ld.append(ld[i].get_text())\n",
    "cust_ld"
   ]
  },
  {
   "cell_type": "markdown",
   "id": "cdf4b35c",
   "metadata": {},
   "source": [
    "# Applying Tabular structure"
   ]
  },
  {
   "cell_type": "code",
   "execution_count": 34,
   "id": "61a77465",
   "metadata": {},
   "outputs": [],
   "source": [
    "import pandas as pd"
   ]
  },
  {
   "cell_type": "code",
   "execution_count": 35,
   "id": "5244ef3c",
   "metadata": {},
   "outputs": [],
   "source": [
    "df=pd.DataFrame()"
   ]
  },
  {
   "cell_type": "code",
   "execution_count": 43,
   "id": "b24cc385",
   "metadata": {},
   "outputs": [],
   "source": [
    "df[\"names\"]=cust_name\n",
    "df[\"main\"]=main_comment\n",
    "df[\"star\"]=rating_star\n",
    "df[\"review\"]=cust_review\n",
    "\n",
    "\n"
   ]
  },
  {
   "cell_type": "code",
   "execution_count": 44,
   "id": "692d10fc",
   "metadata": {},
   "outputs": [
    {
     "data": {
      "text/html": [
       "<div>\n",
       "<style scoped>\n",
       "    .dataframe tbody tr th:only-of-type {\n",
       "        vertical-align: middle;\n",
       "    }\n",
       "\n",
       "    .dataframe tbody tr th {\n",
       "        vertical-align: top;\n",
       "    }\n",
       "\n",
       "    .dataframe thead th {\n",
       "        text-align: right;\n",
       "    }\n",
       "</style>\n",
       "<table border=\"1\" class=\"dataframe\">\n",
       "  <thead>\n",
       "    <tr style=\"text-align: right;\">\n",
       "      <th></th>\n",
       "      <th>names</th>\n",
       "      <th>main</th>\n",
       "      <th>star</th>\n",
       "      <th>review</th>\n",
       "    </tr>\n",
       "  </thead>\n",
       "  <tbody>\n",
       "    <tr>\n",
       "      <th>0</th>\n",
       "      <td>Flipkart Customer</td>\n",
       "      <td>Good choice</td>\n",
       "      <td>4</td>\n",
       "      <td>Writing this review after 2 weeks. PROS:-less ...</td>\n",
       "    </tr>\n",
       "    <tr>\n",
       "      <th>1</th>\n",
       "      <td>Flipkart Customer</td>\n",
       "      <td>Great product</td>\n",
       "      <td>5</td>\n",
       "      <td>Got the watch from Flipkart and I must say it'...</td>\n",
       "    </tr>\n",
       "    <tr>\n",
       "      <th>2</th>\n",
       "      <td>Prativa Satpathy</td>\n",
       "      <td>Worth every penny</td>\n",
       "      <td>5</td>\n",
       "      <td>Wooww🖤Grt watch awesome 💌💌🖤I loved it super fa...</td>\n",
       "    </tr>\n",
       "    <tr>\n",
       "      <th>3</th>\n",
       "      <td>Srikanth sriki</td>\n",
       "      <td>Delightful</td>\n",
       "      <td>4</td>\n",
       "      <td>Boat smart watch nice  and decent product in t...</td>\n",
       "    </tr>\n",
       "    <tr>\n",
       "      <th>4</th>\n",
       "      <td>Flipkart Customer</td>\n",
       "      <td>Excellent</td>\n",
       "      <td>5</td>\n",
       "      <td>Beautiful smart watch loved its look just awes...</td>\n",
       "    </tr>\n",
       "    <tr>\n",
       "      <th>5</th>\n",
       "      <td>Flipkart Customer</td>\n",
       "      <td>Mind-blowing purchase</td>\n",
       "      <td>5</td>\n",
       "      <td>Watch is amazing. Looks so good &amp; battery is g...</td>\n",
       "    </tr>\n",
       "    <tr>\n",
       "      <th>6</th>\n",
       "      <td>Piyush Kaliya</td>\n",
       "      <td>Fabulous!</td>\n",
       "      <td>5</td>\n",
       "      <td>Writing this review after 11 days.1. Price :- ...</td>\n",
       "    </tr>\n",
       "    <tr>\n",
       "      <th>7</th>\n",
       "      <td>Mitesh Shah</td>\n",
       "      <td>Perfect product!</td>\n",
       "      <td>5</td>\n",
       "      <td>Good watch...👍Use after 10 day .and one time c...</td>\n",
       "    </tr>\n",
       "    <tr>\n",
       "      <th>8</th>\n",
       "      <td>Bhagyashree Patil</td>\n",
       "      <td>Highly recommended</td>\n",
       "      <td>5</td>\n",
       "      <td>This watch looks really cool. I loved it. Than...</td>\n",
       "    </tr>\n",
       "    <tr>\n",
       "      <th>9</th>\n",
       "      <td>Rahul Raut</td>\n",
       "      <td>Does the job</td>\n",
       "      <td>3</td>\n",
       "      <td>Been using this Watch since it's launch. 30th ...</td>\n",
       "    </tr>\n",
       "  </tbody>\n",
       "</table>\n",
       "</div>"
      ],
      "text/plain": [
       "               names                   main star  \\\n",
       "0  Flipkart Customer            Good choice    4   \n",
       "1  Flipkart Customer          Great product    5   \n",
       "2   Prativa Satpathy      Worth every penny    5   \n",
       "3     Srikanth sriki             Delightful    4   \n",
       "4  Flipkart Customer              Excellent    5   \n",
       "5  Flipkart Customer  Mind-blowing purchase    5   \n",
       "6      Piyush Kaliya              Fabulous!    5   \n",
       "7        Mitesh Shah       Perfect product!    5   \n",
       "8  Bhagyashree Patil     Highly recommended    5   \n",
       "9         Rahul Raut           Does the job    3   \n",
       "\n",
       "                                              review  \n",
       "0  Writing this review after 2 weeks. PROS:-less ...  \n",
       "1  Got the watch from Flipkart and I must say it'...  \n",
       "2  Wooww🖤Grt watch awesome 💌💌🖤I loved it super fa...  \n",
       "3  Boat smart watch nice  and decent product in t...  \n",
       "4  Beautiful smart watch loved its look just awes...  \n",
       "5  Watch is amazing. Looks so good & battery is g...  \n",
       "6  Writing this review after 11 days.1. Price :- ...  \n",
       "7  Good watch...👍Use after 10 day .and one time c...  \n",
       "8  This watch looks really cool. I loved it. Than...  \n",
       "9  Been using this Watch since it's launch. 30th ...  "
      ]
     },
     "execution_count": 44,
     "metadata": {},
     "output_type": "execute_result"
    }
   ],
   "source": [
    "df"
   ]
  },
  {
   "cell_type": "markdown",
   "id": "48770f4c",
   "metadata": {},
   "source": [
    "# Exporting the dataset into csv file"
   ]
  },
  {
   "cell_type": "code",
   "execution_count": 45,
   "id": "38f7b948",
   "metadata": {},
   "outputs": [],
   "source": [
    "df.to_csv(\"Boat Digital watch\",index=False)"
   ]
  },
  {
   "cell_type": "code",
   "execution_count": 46,
   "id": "82426acc",
   "metadata": {},
   "outputs": [
    {
     "data": {
      "text/html": [
       "<div>\n",
       "<style scoped>\n",
       "    .dataframe tbody tr th:only-of-type {\n",
       "        vertical-align: middle;\n",
       "    }\n",
       "\n",
       "    .dataframe tbody tr th {\n",
       "        vertical-align: top;\n",
       "    }\n",
       "\n",
       "    .dataframe thead th {\n",
       "        text-align: right;\n",
       "    }\n",
       "</style>\n",
       "<table border=\"1\" class=\"dataframe\">\n",
       "  <thead>\n",
       "    <tr style=\"text-align: right;\">\n",
       "      <th></th>\n",
       "      <th>names</th>\n",
       "      <th>main</th>\n",
       "      <th>star</th>\n",
       "      <th>review</th>\n",
       "    </tr>\n",
       "  </thead>\n",
       "  <tbody>\n",
       "    <tr>\n",
       "      <th>0</th>\n",
       "      <td>Flipkart Customer</td>\n",
       "      <td>Good choice</td>\n",
       "      <td>4</td>\n",
       "      <td>Writing this review after 2 weeks. PROS:-less ...</td>\n",
       "    </tr>\n",
       "    <tr>\n",
       "      <th>1</th>\n",
       "      <td>Flipkart Customer</td>\n",
       "      <td>Great product</td>\n",
       "      <td>5</td>\n",
       "      <td>Got the watch from Flipkart and I must say it'...</td>\n",
       "    </tr>\n",
       "    <tr>\n",
       "      <th>2</th>\n",
       "      <td>Prativa Satpathy</td>\n",
       "      <td>Worth every penny</td>\n",
       "      <td>5</td>\n",
       "      <td>Wooww🖤Grt watch awesome 💌💌🖤I loved it super fa...</td>\n",
       "    </tr>\n",
       "    <tr>\n",
       "      <th>3</th>\n",
       "      <td>Srikanth sriki</td>\n",
       "      <td>Delightful</td>\n",
       "      <td>4</td>\n",
       "      <td>Boat smart watch nice  and decent product in t...</td>\n",
       "    </tr>\n",
       "    <tr>\n",
       "      <th>4</th>\n",
       "      <td>Flipkart Customer</td>\n",
       "      <td>Excellent</td>\n",
       "      <td>5</td>\n",
       "      <td>Beautiful smart watch loved its look just awes...</td>\n",
       "    </tr>\n",
       "    <tr>\n",
       "      <th>5</th>\n",
       "      <td>Flipkart Customer</td>\n",
       "      <td>Mind-blowing purchase</td>\n",
       "      <td>5</td>\n",
       "      <td>Watch is amazing. Looks so good &amp; battery is g...</td>\n",
       "    </tr>\n",
       "    <tr>\n",
       "      <th>6</th>\n",
       "      <td>Piyush Kaliya</td>\n",
       "      <td>Fabulous!</td>\n",
       "      <td>5</td>\n",
       "      <td>Writing this review after 11 days.1. Price :- ...</td>\n",
       "    </tr>\n",
       "    <tr>\n",
       "      <th>7</th>\n",
       "      <td>Mitesh Shah</td>\n",
       "      <td>Perfect product!</td>\n",
       "      <td>5</td>\n",
       "      <td>Good watch...👍Use after 10 day .and one time c...</td>\n",
       "    </tr>\n",
       "    <tr>\n",
       "      <th>8</th>\n",
       "      <td>Bhagyashree Patil</td>\n",
       "      <td>Highly recommended</td>\n",
       "      <td>5</td>\n",
       "      <td>This watch looks really cool. I loved it. Than...</td>\n",
       "    </tr>\n",
       "    <tr>\n",
       "      <th>9</th>\n",
       "      <td>Rahul Raut</td>\n",
       "      <td>Does the job</td>\n",
       "      <td>3</td>\n",
       "      <td>Been using this Watch since it's launch. 30th ...</td>\n",
       "    </tr>\n",
       "  </tbody>\n",
       "</table>\n",
       "</div>"
      ],
      "text/plain": [
       "               names                   main  star  \\\n",
       "0  Flipkart Customer            Good choice     4   \n",
       "1  Flipkart Customer          Great product     5   \n",
       "2   Prativa Satpathy      Worth every penny     5   \n",
       "3     Srikanth sriki             Delightful     4   \n",
       "4  Flipkart Customer              Excellent     5   \n",
       "5  Flipkart Customer  Mind-blowing purchase     5   \n",
       "6      Piyush Kaliya              Fabulous!     5   \n",
       "7        Mitesh Shah       Perfect product!     5   \n",
       "8  Bhagyashree Patil     Highly recommended     5   \n",
       "9         Rahul Raut           Does the job     3   \n",
       "\n",
       "                                              review  \n",
       "0  Writing this review after 2 weeks. PROS:-less ...  \n",
       "1  Got the watch from Flipkart and I must say it'...  \n",
       "2  Wooww🖤Grt watch awesome 💌💌🖤I loved it super fa...  \n",
       "3  Boat smart watch nice  and decent product in t...  \n",
       "4  Beautiful smart watch loved its look just awes...  \n",
       "5  Watch is amazing. Looks so good & battery is g...  \n",
       "6  Writing this review after 11 days.1. Price :- ...  \n",
       "7  Good watch...👍Use after 10 day .and one time c...  \n",
       "8  This watch looks really cool. I loved it. Than...  \n",
       "9  Been using this Watch since it's launch. 30th ...  "
      ]
     },
     "execution_count": 46,
     "metadata": {},
     "output_type": "execute_result"
    }
   ],
   "source": [
    "df=pd.read_csv(\"Boat Digital watch\")\n",
    "df"
   ]
  },
  {
   "cell_type": "code",
   "execution_count": null,
   "id": "5cac672b",
   "metadata": {},
   "outputs": [],
   "source": []
  }
 ],
 "metadata": {
  "kernelspec": {
   "display_name": "Python 3 (ipykernel)",
   "language": "python",
   "name": "python3"
  },
  "language_info": {
   "codemirror_mode": {
    "name": "ipython",
    "version": 3
   },
   "file_extension": ".py",
   "mimetype": "text/x-python",
   "name": "python",
   "nbconvert_exporter": "python",
   "pygments_lexer": "ipython3",
   "version": "3.9.13"
  }
 },
 "nbformat": 4,
 "nbformat_minor": 5
}
